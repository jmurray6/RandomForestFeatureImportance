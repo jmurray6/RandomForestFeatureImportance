{
 "cells": [
  {
   "cell_type": "code",
   "execution_count": null,
   "metadata": {},
   "outputs": [],
   "source": [
    "import pandas as pd\n",
    "import numpy as np\n",
    "import matplotlib.pyplot as plt\n",
    "from sklearn.ensemble import RandomForestRegressor\n",
    "from sklearn.feature_extraction.text import TfidfVectorizer\n",
    "from sklearn.cluster import KMeans\n",
    "from sklearn.preprocessing import LabelEncoder"
   ]
  },
  {
   "cell_type": "code",
   "execution_count": null,
   "metadata": {},
   "outputs": [],
   "source": [
    "ucs_df = pd.read_csv('used_car_sales.csv')\n",
    "ucs_df"
   ]
  },
  {
   "cell_type": "code",
   "execution_count": null,
   "metadata": {},
   "outputs": [],
   "source": [
    "pd.options.display.max_rows = 4000"
   ]
  },
  {
   "cell_type": "code",
   "execution_count": null,
   "metadata": {},
   "outputs": [],
   "source": [
    "ucs_df['BodyType'].value_counts()"
   ]
  },
  {
   "cell_type": "code",
   "execution_count": null,
   "metadata": {},
   "outputs": [],
   "source": [
    "ucs_df = ucs_df[[\"pricesold\", \"yearsold\", \"Mileage\", \"Make\", \"Year\", \"BodyType\"]]"
   ]
  },
  {
   "cell_type": "code",
   "execution_count": null,
   "metadata": {},
   "outputs": [],
   "source": [
    "ucs_df"
   ]
  },
  {
   "cell_type": "code",
   "execution_count": null,
   "metadata": {},
   "outputs": [],
   "source": [
    "ucs_df['Mileage'].hist()"
   ]
  },
  {
   "cell_type": "code",
   "execution_count": null,
   "metadata": {},
   "outputs": [],
   "source": [
    "ucs_df['Mileage'].max()"
   ]
  },
  {
   "cell_type": "code",
   "execution_count": null,
   "metadata": {},
   "outputs": [],
   "source": [
    "# remove cars with more than 400k miles\n",
    "ucs_df = ucs_df[ucs_df['Mileage'] < 400000]"
   ]
  },
  {
   "cell_type": "code",
   "execution_count": null,
   "metadata": {},
   "outputs": [],
   "source": [
    "ucs_df['Mileage'].hist()"
   ]
  },
  {
   "cell_type": "code",
   "execution_count": null,
   "metadata": {},
   "outputs": [],
   "source": [
    "ucs_df['Year'].max()"
   ]
  },
  {
   "cell_type": "code",
   "execution_count": null,
   "metadata": {},
   "outputs": [],
   "source": [
    "ucs_df = ucs_df[(ucs_df['Year'] < 2024) & (ucs_df['Year'] > 1910)]"
   ]
  },
  {
   "cell_type": "code",
   "execution_count": null,
   "metadata": {},
   "outputs": [],
   "source": [
    "ucs_df['Year'].hist()"
   ]
  },
  {
   "cell_type": "code",
   "execution_count": null,
   "metadata": {},
   "outputs": [],
   "source": [
    "unique_makes = list(ucs_df['Make'].unique())\n",
    "\n",
    "print(len(unique_makes))\n",
    "print(*sorted(unique_makes), sep = \"\\n\")\n"
   ]
  },
  {
   "cell_type": "code",
   "execution_count": null,
   "metadata": {},
   "outputs": [],
   "source": [
    "list(ucs_df['Make'].value_counts().index[0:80])"
   ]
  },
  {
   "cell_type": "code",
   "execution_count": null,
   "metadata": {},
   "outputs": [],
   "source": [
    "all_makes = list(ucs_df['Make'].unique())\n",
    "\n",
    "for make in all_makes:\n",
    "    if 'chry' in make.lower():\n",
    "        print(make)"
   ]
  },
  {
   "cell_type": "code",
   "execution_count": null,
   "metadata": {},
   "outputs": [],
   "source": [
    "good_makes = list(ucs_df['Make'].value_counts().index[0:80])\n",
    "\n",
    "make_cleanup_map = {'austin': 'Austin',\n",
    " 'bmw': 'BMW',\n",
    " 'chev': 'Chevrolet',\n",
    " 'chry': 'Chrysler',\n",
    " 'diamond': 'Diamond T',\n",
    " 'dodge': 'Ram',\n",
    " 'fiat': 'Fiat',\n",
    " 'ford': 'Ford',\n",
    " 'gmc': 'GMC',\n",
    " 'honda': 'Honda',\n",
    " 'hummer': 'Hummer',\n",
    " 'jaguar': 'Jaguar',\n",
    " 'jeep': 'Jeep',\n",
    " 'lexus': 'Lexus',\n",
    " 'lincoln': 'Lincoln',\n",
    " 'lotus': 'Lotus',\n",
    " 'mazda': 'Mazda',\n",
    " 'mercedes': 'Mercedes-Benz',\n",
    " 'mouth': 'Chrysler',\n",
    " 'nissan': 'Nissan',\n",
    " 'olds': 'Oldsmobile',\n",
    " 'pon': 'Pontiac',\n",
    " 'ram': 'Ram',\n",
    " 'rambler': 'AMC',\n",
    " 'rover': 'Land Rover',\n",
    " 'saturn': 'Saturn',\n",
    " 'subaru': 'Subaru',\n",
    " 'suburu': 'Subaru',\n",
    " 'tesla': 'Tesla',\n",
    " 'toyota': 'Toyota',\n",
    " 'volks': 'Volkswagen',\n",
    " 'volvo': 'Volvo',\n",
    " 'vw': 'Volkswagen'\n",
    " }\n",
    "\n",
    "def make_cleanup(orig_make):\n",
    "    make_lower = orig_make.lower()\n",
    "\n",
    "    if orig_make in good_makes:\n",
    "        return orig_make\n",
    "    else:\n",
    "        for key in make_cleanup_map.keys():\n",
    "            if key in make_lower:\n",
    "                return make_cleanup_map[key]\n",
    "\n",
    "    return 'Other Makes'\n",
    "\n",
    "ucs_df['clean_make'] = ucs_df['Make'].apply(lambda x: make_cleanup(x))\n"
   ]
  },
  {
   "cell_type": "code",
   "execution_count": null,
   "metadata": {},
   "outputs": [],
   "source": [
    "ucs_df['clean_make'].value_counts()"
   ]
  },
  {
   "cell_type": "code",
   "execution_count": null,
   "metadata": {},
   "outputs": [],
   "source": [
    "ucs_df['BodyType'] = ucs_df['BodyType'].astype(str)"
   ]
  },
  {
   "cell_type": "code",
   "execution_count": null,
   "metadata": {},
   "outputs": [],
   "source": [
    "np.random.seed(42)\n",
    "\n",
    "vectorizer = TfidfVectorizer()\n",
    "X = vectorizer.fit_transform(ucs_df['BodyType'])\n",
    "\n",
    "kmeans = KMeans(n_clusters=8, random_state=42)\n",
    "\n",
    "kmeans.fit(X)\n",
    "\n",
    "body_df = ucs_df[['BodyType']].copy()\n",
    "body_df['cluster'] = kmeans.labels_"
   ]
  },
  {
   "cell_type": "code",
   "execution_count": null,
   "metadata": {},
   "outputs": [],
   "source": [
    "with pd.option_context('display.max_rows', None, 'display.max_columns', None):  # more options can be specified also\n",
    "    for i in range(8):\n",
    "        print(body_df[body_df['cluster'] == i].head(500))\n",
    "        "
   ]
  },
  {
   "cell_type": "code",
   "execution_count": null,
   "metadata": {},
   "outputs": [],
   "source": [
    "body_cleanup_map = {\n",
    "    'van': 'Van',\n",
    "    'pickup': 'Pickup', \n",
    "    'cab': 'Pickup',\n",
    "    'bed': 'Pickup',\n",
    "    'truck': 'Pickup',\n",
    "    'coupe': 'Coupe',\n",
    "    '2door': 'Coupe',\n",
    "    '2dr': 'Coupe',\n",
    "    'sedan': 'Sedan',\n",
    "    '4door': 'Sedan',\n",
    "    '4dr': 'Sedan',\n",
    "    'suv' : 'SUV',\n",
    "    'jeep': 'SUV',\n",
    "    'sportutil': 'SUV',\n",
    "    'convertible': 'Convertible',\n",
    "    'wagon': 'Wagon',\n",
    "    'hatchback': 'Hatchback',\n",
    "    'fastback': 'Fastback'\n",
    "}\n",
    "\n",
    "def body_cleanup(orig_body):\n",
    "    body_stripped = ''.join(e for e in orig_body if e.isalnum()).lower()\n",
    "\n",
    "    for key in body_cleanup_map.keys():\n",
    "        if key in body_stripped:\n",
    "            return body_cleanup_map[key]\n",
    "    return 'Other Bodies'\n",
    "\n",
    "ucs_df['clean_body'] = ucs_df['BodyType'].apply(lambda x: body_cleanup(x))"
   ]
  },
  {
   "cell_type": "code",
   "execution_count": null,
   "metadata": {},
   "outputs": [],
   "source": [
    "\n",
    "with pd.option_context('display.max_rows', None, 'display.max_columns', None):  # more options can be specified also\n",
    "    print(ucs_df[['BodyType', 'clean_body']][ucs_df['clean_body'] == 'Other Bodies'])"
   ]
  },
  {
   "cell_type": "code",
   "execution_count": null,
   "metadata": {},
   "outputs": [],
   "source": [
    "counts = ucs_df['clean_body'].value_counts()\n",
    "\n",
    "counts.plot(kind='bar', color='blue')\n",
    "\n",
    "plt.grid(False)\n",
    "\n",
    "plt.gca().spines['top'].set_visible(False)\n",
    "plt.gca().spines['right'].set_visible(False)\n",
    "plt.gca().spines['left'].set_visible(False)\n",
    "plt.gca().spines['bottom'].set_visible(False)\n",
    "\n",
    "plt.xticks(rotation=90)\n",
    "\n",
    "plt.show()"
   ]
  },
  {
   "cell_type": "code",
   "execution_count": null,
   "metadata": {},
   "outputs": [],
   "source": [
    "modes = ucs_df.mode().iloc[0]\n",
    "\n",
    "def proc_data(df):\n",
    "    df['CleanMake'] = pd.Categorical(df.clean_make)\n",
    "    df['CleanBody'] = pd.Categorical(df.clean_body)\n",
    "    df['YearMade'] = pd.Categorical(df.Year)\n",
    "    df['YearSold'] = pd.Categorical(df.yearsold)\n",
    "    \n",
    "    df.fillna(modes, inplace=True)\n",
    "\n",
    "proc_data(ucs_df)"
   ]
  },
  {
   "cell_type": "code",
   "execution_count": null,
   "metadata": {},
   "outputs": [],
   "source": [
    "cons_df = ucs_df[['pricesold', 'YearSold', 'Mileage', 'YearMade', 'CleanMake', 'CleanBody']]"
   ]
  },
  {
   "cell_type": "code",
   "execution_count": null,
   "metadata": {},
   "outputs": [],
   "source": [
    "categorical_cols = ['YearSold', 'YearMade', 'CleanMake', 'CleanBody']\n",
    "le = LabelEncoder() \n",
    "cons_df[categorical_cols] = cons_df[categorical_cols].apply(lambda col: le.fit_transform(col))"
   ]
  },
  {
   "cell_type": "code",
   "execution_count": null,
   "metadata": {},
   "outputs": [],
   "source": [
    "cons_df"
   ]
  },
  {
   "cell_type": "code",
   "execution_count": null,
   "metadata": {},
   "outputs": [],
   "source": [
    "X = cons_df.drop(columns=['pricesold'])\n",
    "pricesold_column = cons_df.loc[:, 'pricesold']\n",
    "y = pricesold_column.values\n"
   ]
  },
  {
   "cell_type": "code",
   "execution_count": null,
   "metadata": {},
   "outputs": [],
   "source": [
    "rf = RandomForestRegressor(n_estimators=300)\n",
    "rf.fit(X, y)"
   ]
  },
  {
   "cell_type": "code",
   "execution_count": null,
   "metadata": {},
   "outputs": [],
   "source": [
    "rf.feature_importances_"
   ]
  },
  {
   "cell_type": "code",
   "execution_count": null,
   "metadata": {},
   "outputs": [],
   "source": [
    "plt.barh(X.columns, rf.feature_importances_)"
   ]
  },
  {
   "cell_type": "code",
   "execution_count": null,
   "metadata": {},
   "outputs": [],
   "source": []
  }
 ],
 "metadata": {
  "kernelspec": {
   "display_name": "Python 3 (ipykernel)",
   "language": "python",
   "name": "python3"
  },
  "language_info": {
   "codemirror_mode": {
    "name": "ipython",
    "version": 3
   },
   "file_extension": ".py",
   "mimetype": "text/x-python",
   "name": "python",
   "nbconvert_exporter": "python",
   "pygments_lexer": "ipython3",
   "version": "3.10.13"
  }
 },
 "nbformat": 4,
 "nbformat_minor": 4
}

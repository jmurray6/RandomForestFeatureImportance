{
 "cells": [
  {
   "cell_type": "code",
   "execution_count": 1,
   "metadata": {},
   "outputs": [
    {
     "name": "stderr",
     "output_type": "stream",
     "text": [
      "/var/folders/tl/tcgv4w050yj5nx3f9m3gwx6w0000gn/T/ipykernel_19859/3242553389.py:1: DeprecationWarning: \n",
      "Pyarrow will become a required dependency of pandas in the next major release of pandas (pandas 3.0),\n",
      "(to allow more performant data types, such as the Arrow string type, and better interoperability with other libraries)\n",
      "but was not found to be installed on your system.\n",
      "If this would cause problems for you,\n",
      "please provide us feedback at https://github.com/pandas-dev/pandas/issues/54466\n",
      "        \n",
      "  import pandas as pd\n"
     ]
    }
   ],
   "source": [
    "import pandas as pd\n",
    "import numpy as np\n",
    "import matplotlib.pyplot as plt\n",
    "from sklearn.ensemble import RandomForestRegressor\n",
    "from sklearn.feature_extraction.text import TfidfVectorizer\n",
    "from sklearn.cluster import KMeans\n",
    "from sklearn.preprocessing import LabelEncoder"
   ]
  },
  {
   "cell_type": "code",
   "execution_count": 4,
   "metadata": {},
   "outputs": [
    {
     "name": "stdout",
     "output_type": "stream",
     "text": [
      "|    |     ID |   pricesold |   yearsold | zipcode   |   Mileage | Make              | Model              |   Year | Trim                                        | Engine                          | BodyType             |   NumCylinders | DriveType   |\n",
      "|---:|-------:|------------:|-----------:|:----------|----------:|:------------------|:-------------------|-------:|:--------------------------------------------|:--------------------------------|:---------------------|---------------:|:------------|\n",
      "|  0 | 137178 |        7500 |       2020 | 786**     |     84430 | Ford              | Mustang            |   1988 | LX                                          | 5.0L Gas V8                     | Sedan                |              0 | RWD         |\n",
      "|  1 |  96705 |       15000 |       2019 | 81006     |         0 | Replica/Kit Makes | Jaguar Beck Lister |   1958 | nan                                         | 383 Fuel injected               | Convertible          |              8 | RWD         |\n",
      "|  2 | 119660 |        8750 |       2020 | 33449     |     55000 | Jaguar            | XJS                |   1995 | 2+2 Cabriolet                               | 4.0L In-Line 6 Cylinder         | Convertible          |              6 | RWD         |\n",
      "|  3 |  80773 |       11600 |       2019 | 07852     |     97200 | Ford              | Mustang            |   1968 | Stock                                       | 289 cu. in. V8                  | Coupe                |              8 | RWD         |\n",
      "|  4 |  64287 |       44000 |       2019 | 07728     |     40703 | Porsche           | 911                |   2002 | Turbo X-50                                  | 3.6L                            | Coupe                |              6 | AWD         |\n",
      "|  5 | 132695 |         950 |       2020 | 462**     |     71300 | Mercury           | Montclair          |   1965 | nan                                         | NO ENGINE                       | Sedan                |              0 | RWD         |\n",
      "|  6 | 132829 |         950 |       2020 | 105**     |     71300 | Mercury           | Montclair          |   1965 | nan                                         | nan                             | Sedan                |              0 | nan         |\n",
      "|  7 |   5250 |       70000 |       2019 | 07627     |      6500 | Land Rover        | Defender           |   1997 | nan                                         | 4.0 Liter Fuel Injected V8      | nan                  |              0 | 4WD         |\n",
      "|  8 |  29023 |        1330 |       2019 | 07043     |    167000 | Honda             | Civic              |   2001 | EX                                          | nan                             | Coupe                |              4 | FWD         |\n",
      "|  9 |  80293 |       25200 |       2019 | 33759     |     15000 | Pontiac           | GTO                |   1970 | nan                                         | nan                             | nan                  |              0 | nan         |\n",
      "| 10 | 158271 |       20000 |       2020 | 333**     |     51674 | Jeep              | Wrangler           |   2015 | SPORT                                       | 3.6L Flexible V6                | SUV                  |              6 | 4WD         |\n",
      "| 11 |  72418 |       14100 |       2019 | 07014     |    109500 | Jeep              | Wrangler           |   2012 | Unlimited                                   | 3.6L                            | SUV                  |              6 | 4WD         |\n",
      "| 12 |  91661 |        5700 |       2020 | 76051     |   1000000 | Ford              | F-100              |   1949 | nan                                         | nan                             | Standard Cab Pickup  |              8 | RWD         |\n",
      "| 13 | 119358 |        6000 |       2020 | 384**     |    101501 | Toyota            | Prius              |   2009 | nan                                         | 1.5L Electric and Gas Hybrid I4 | 4 door/hatchback     |              4 | FWD         |\n",
      "| 14 | 131969 |        4000 |       2020 | 027**     |    118513 | Toyota            | Celica             |   1985 | nan                                         | 2.8L Gas I6                     | Hatchback            |              0 | RWD         |\n",
      "| 15 |  84062 |        3820 |       2019 | V1W 5L6   |    377000 | Jeep              | Wrangler           |   1997 | nan                                         | 4.0                             | nan                  |              6 | AWD         |\n",
      "| 16 | 144540 |        3330 |       2020 | 856**     |     47692 | Buick             | LeSabre            |   2004 | CUSTOM                                      | 3.8L Gas V6                     | Sedan                |              6 | FWD         |\n",
      "| 17 | 142951 |         650 |       2020 | 628**     |     99999 | Austin            | nan                |   1970 | nan                                         | nan                             | nan                  |              0 | nan         |\n",
      "| 18 | 142336 |        1480 |       2020 | 601**     |    166000 | Nissan            | Altima             |   2006 | nan                                         | nan                             | Sedan                |              6 | nan         |\n",
      "| 19 |  59728 |       18550 |       2019 | 60448     |      6714 | Chevrolet         | Camaro             |   2002 | Z28,SS,SLP                                  | 5.7 liter v8                    | Coupe                |              8 | RWD         |\n",
      "| 20 |  74813 |        4300 |       2019 | 76705     |    140309 | Ford              | F-100              |   1960 | nan                                         | 223                             | Standard Cab Pickup  |              6 | RWD         |\n",
      "| 21 |  74812 |        4750 |       2019 | 76705     |    151361 | Ford              | F-250              |   1978 | Ranger XLT                                  | 460                             | Standard Cab Pickup  |              8 | RWD         |\n",
      "| 22 |  78263 |        3050 |       2020 | 07840     |     95600 | Nissan            | Maxima             |   2004 | SE                                          | 3.5L                            | Sedan                |              6 | FWD         |\n",
      "| 23 |  78272 |        4050 |       2020 | 07840     |    100427 | Nissan            | Altima             |   2009 | Hybrid                                      | 2.5L DOHC                       | Sedan                |              4 | FWD         |\n",
      "| 24 |  45651 |        5390 |       2019 | 07840     |    134000 | Chrysler          | 300 Series         |   2009 | nan                                         | 5.7L HEMI                       | nan                  |              8 | AWD         |\n",
      "| 25 | 136843 |        4050 |       2020 | 078**     |     82301 | Toyota            | Corolla            |   2008 | nan                                         | nan                             | Sedan                |              4 | FWD         |\n",
      "| 26 | 136599 |        5000 |       2020 | 078**     |     92605 | Toyota            | Tacoma             |   2002 | nan                                         | nan                             | Standard Cab Pickup  |              4 | RWD         |\n",
      "| 27 | 136841 |        3550 |       2020 | 078**     |     87201 | Subaru            | Impreza            |   2008 | nan                                         | nan                             | Sedan                |              4 | AWD         |\n",
      "| 28 |  77898 |        3500 |       2019 | 07840     |    144868 | Honda             | CR-V               |   2006 | LX                                          | 2.4L VTECH                      | SUV                  |              4 | FWD         |\n",
      "| 29 |  77900 |        2550 |       2019 | 07840     |    174102 | Toyota            | Yaris              |   2009 | nan                                         | 1.5L DOHC 16V                   | nan                  |              4 | FWD         |\n",
      "| 30 |  78273 |        1730 |       2020 | 07840     |     93100 | Chevrolet         | Aveo               |   2009 | nan                                         | nan                             | nan                  |              4 | FWD         |\n",
      "| 31 | 116641 |        3020 |       2020 | 06810     |     94700 | Jeep              | Liberty            |   2011 | nan                                         | nan                             | nan                  |              0 | nan         |\n",
      "| 32 |  79126 |       17980 |       2019 | 11727     |     64020 | Oldsmobile        | 442                |   1967 | nan                                         | 400 turbo engine                | 2 Door Hard Top      |              0 | nan         |\n",
      "| 33 |  84279 |        3400 |       2019 | 60542     |    182000 | Jeep              | Grand Cherokee     |   2005 | nan                                         | 5.7 liter 8 Cylinder Hemi       | SUV                  |              8 | 4WD         |\n",
      "| 34 |   8978 |        4600 |       2019 | 60542     |    180000 | Mercedes-Benz     | S-Class            |   2003 | S55 AMG                                     | m1135 5.4 Liter Supercharged    | Sedan                |              8 | RWD         |\n",
      "| 35 | 117593 |        2500 |       2020 | 605**     |    125000 | Porsche           | 944                |   1985 | nan                                         | 2.5L Gas I4                     | Coupe                |              0 | RWD         |\n",
      "| 36 |  62409 |       18000 |       2019 | 16048     |     22000 | Studebaker        | Daytona            |   1964 | nan                                         | 289                             | Wagon                |              8 | nan         |\n",
      "| 37 | 145186 |       10600 |       2020 | 160**     |     12057 | Studebaker        | Daytona            |   1964 | nan                                         | nan                             | Wagon                |              8 | nan         |\n",
      "| 38 | 153239 |        8800 |       2020 | 329**     |     13127 | Chevrolet         | Corvette           |   1976 | L82                                         | nan                             | Coupe                |              0 | nan         |\n",
      "| 39 | 117385 |       15500 |       2020 | 11427     |     40500 | Toyota            | Sienna             |   2015 | nan                                         | nan                             | nan                  |              6 | nan         |\n",
      "| 40 | 160148 |        2000 |       2020 | 601**     |    167435 | Chevrolet         | Astro              |   2001 | nan                                         | 4.3L Gas V6                     | Standard Cargo Van   |              6 | AWD         |\n",
      "| 41 |  57895 |         560 |       2019 | 48225     |     95918 | Ford              | Thunderbird        |   1979 | nan                                         | V8                              | nan                  |              8 | nan         |\n",
      "| 42 |  76801 |       24600 |       2019 | 59101     |        50 | Chevrolet         | Nova               |   1968 | Pro Street 540BBC                           | 540 BBC                         | Coupe                |              8 | RWD         |\n",
      "| 43 |  45861 |       45400 |       2019 | 59101     |      2357 | Ford              | Mustang            |   2016 | Roush                                       | 5.0L Supercharged               | Coupe                |              8 | RWD         |\n",
      "| 44 |  55855 |       49810 |       2019 | 13039     |      2640 | Dodge             | Charger            |   2016 | SRT Hellcat                                 | 6.2L Supercharged               | Sedan                |              8 | RWD         |\n",
      "| 45 | 129741 |        3500 |       2020 | 871**     |    106433 | Mazda             | MX-5 Miata         |   1994 | nan                                         | 1.8                             | nan                  |              0 | nan         |\n",
      "| 46 |  68560 |       20000 |       2019 | 87120     |    106555 | Ford              | Bronco             |   1967 | nan                                         | nan                             | nan                  |              6 | nan         |\n",
      "| 47 | 138692 |        6100 |       2020 | 130**     |     88600 | Ford              | Mustang            |   1988 | nan                                         | nan                             | Convertible          |              8 | RWD         |\n",
      "| 48 |   9704 |       17000 |       2019 | 72223     |         0 | Dodge             | Other              |   1936 | nan                                         | nan                             | nan                  |              0 | nan         |\n",
      "| 49 |  19688 |        3810 |       2019 | 37642     |     80000 | Chevrolet         | Bel Air/150/210    |   1957 | Chrome                                      | v8                              | Wagon                |              8 | RWD         |\n",
      "| 50 | 102288 |        5600 |       2019 | 60491     |    143250 | Cadillac          | CTS                |   2010 | Performance                                 | 3.6                             | Wagon                |              6 | AWD         |\n",
      "| 51 |  88979 |        6500 |       2019 | 06268     |     89000 | Cadillac          | Allante            |   1988 | nan                                         | 4.1 Liter V-8                   | 2-seater convertible |              8 | FWD         |\n",
      "| 52 |  64048 |         500 |       2019 | 90028     |     40000 | Buick             | Riviera            |   1977 | nan                                         | nan                             | nan                  |              0 | nan         |\n",
      "| 53 |  50079 |       16450 |       2019 | 59806     |      4327 | Ford              | TUDOR              |   1946 | nan                                         | 350                             | Sedan                |              8 | RWD         |\n",
      "| 54 | 157991 |        4000 |       2020 | 197**     |    264000 | Ford              | E-450 Super Duty   |   2009 | E450 SUPER DUTY COMMERCIAL STRIPPED CHASSIS | 5.4L Gas V8                     | nan                  |              0 | RWD         |\n",
      "| 55 | 126032 |        5100 |       2020 | 322**     |     99200 | Jaguar            | XJR                |   2004 | XJR                                         | 4.2 V8                          | Sedan                |              8 | RWD         |\n",
      "| 56 |  67537 |         760 |       2019 | 32533     |    144002 | Ford              | Mustang            |   1987 | LX                                          | 5.0 V8                          | Coupe                |              8 | RWD         |\n",
      "| 57 |  92293 |       13410 |       2019 | 75904     |     51793 | Ford              | Mustang            |   1992 | GT                                          | 5.0L V8                         | Coupe                |              8 | RWD         |\n",
      "| 58 |  77211 |        1000 |       2019 | 75758     |    234110 | Chevrolet         | HHR                |   2008 | nan                                         | 2.2L                            | LL                   |              4 | FWD         |\n",
      "| 59 |  90242 |        5600 |       2019 | nan       |     85000 | Mercedes-Benz     | G-Class            |   1990 | nan                                         | 2990                            | Wagon                |              0 | nan         |\n",
      "| 60 | 111571 |        2150 |       2020 | 337**     |    216932 | Mercedes-Benz     | 300-Series         |   1991 | 300D Diesel No Minimum No Reserve           | Diesel                          | Sedan                |              5 | RWD         |\n",
      "| 61 |   1559 |        4940 |       2019 | 33731     |    168544 | Mercedes-Benz     | 300-Series         |   1991 | 300D Diesel Low Miles No Reserve Auction    | 2.5 L Diesel                    | Sedan                |              5 | nan         |\n",
      "| 62 |  32742 |        8600 |       2019 | 33731     |     70850 | Mercedes-Benz     | SL-Class           |   1991 | nan                                         | nan                             | nan                  |              8 | nan         |\n",
      "| 63 | 131515 |        9600 |       2020 | 402**     |     18100 | Cadillac          | Fleetwood          |   1984 | Brougham d’Elegance                         | 4.1L V8 OHV 16V                 | Sedan                |              8 | RWD         |\n",
      "| 64 |  51342 |       20500 |       2019 | 40222     |     97000 | GMC               | Suburban           |   2011 | LTZ                                         | V8                              | nan                  |              0 | 4WD         |\n",
      "| 65 |  44820 |       16000 |       2019 | 40222     |     24800 | BMW               | 7-Series           |   1998 | nan                                         | V8                              | Sedan                |              0 | nan         |\n",
      "| 66 |  51171 |       31000 |       2019 | 40222     |     26000 | Maserati          | Gran Turismo       |   2009 | S                                           | 4.7 liter                       | Coupe                |              8 | nan         |\n",
      "| 67 | 149334 |       10000 |       2020 | 800**     |    101862 | Cadillac          | DeVille Sedan      |   1966 | nan                                         | 7.0l                            | Sedan                |              0 | RWD         |\n",
      "| 68 |  47786 |       11500 |       2019 | 80020     |    155861 | Plymouth          | Belvedere          |   1966 | BASIC                                       | v8 383                          | Convertible          |              8 | RWD         |\n",
      "| 69 | 150216 |        5000 |       2020 | 800**     |    170285 | BMW               | 3-Series           |   1989 | I AUTOMATIC                                 | 2.5L Gas I6                     | Convertible          |              6 | RWD         |\n",
      "| 70 |  19071 |       15000 |       2019 | 90260     |      6756 | Ford              | Model A            |   1931 | Cabriolet                                   | 4cyl                            | Convertible          |              4 | RWD         |\n",
      "| 71 |  96419 |       22770 |       2019 | 05733     |     31008 | Ford              | Wagon              |   1949 | nan                                         | 350 ci                          | Wagon                |              8 | nan         |\n",
      "| 72 |  44319 |       15700 |       2019 | 16001     |     81976 | Dodge             | Sprinter           |   2006 | 3500 CARGO VAN                              | 2.7L Turbocharged Diesel        | Cargo Van            |              5 | RWD         |\n",
      "| 73 |  81191 |       69000 |       2019 | nan       |     49983 | Mercedes-Benz     | SLS AMG            |   2012 | nan                                         | nan                             | nan                  |              0 | nan         |\n",
      "| 74 | 137943 |       25100 |       2020 | 730**     |     99999 | Dodge             | Challenger         |   1970 | SE                                          | 440 Magnum                      | Coupe                |              8 | RWD         |\n",
      "| 75 |  88927 |        1380 |       2019 | 83860     |    100000 | Chevrolet         | Bel Air/150/210    |   1956 | nan                                         | nan                             | Sedan                |              6 | RWD         |\n",
      "| 76 | 121144 |        3500 |       2020 | 430**     |    101249 | Chrysler          | 300 Series         |   2006 | TOURING                                     | 3.5L MPI 24-VALVE HO V6         | Sedan                |              6 | RWD         |\n",
      "| 77 | 155642 |       29000 |       2020 | 386**     |     25165 | Chevrolet         | Corvette           |   2007 | nan                                         | nan                             | Coupe                |              0 | nan         |\n",
      "| 78 |  59517 |        4000 |       2019 | 33707     |    210500 | Chevrolet         | Silverado 2500     |   2002 | LT                                          | 6.6L Turbo Diesel Duramax       | Crew Cab Pickup      |              8 | 4WD         |\n",
      "| 79 |  56873 |       10010 |       2019 | 01501     |     21632 | Chevrolet         | Camaro             |   1987 | nan                                         | 350                             | Coupe                |              8 | RWD         |\n",
      "| 80 |   5550 |       34200 |       2018 | 90046     |     21750 | Ferrari           | Mondial            |   1989 | T Cabriolet                                 | nan                             | Convertible          |              8 | nan         |\n",
      "| 81 |  46260 |        5500 |       2019 | 86314     |     10000 | Volkswagen        | Beetle - Classic   |   1973 | nan                                         | 1600 Dual Port                  | Coupe                |              4 | RWD         |\n",
      "| 82 |  73673 |        5000 |       2019 | 48450     |    286731 | Chevrolet         | C/K Pickup 3500    |   1997 | Slt                                         | 6.5L V8 Diesel                  | Extended Cab Pickup  |              8 | RWD         |\n",
      "| 83 |  84557 |        3900 |       2019 | 59601     |    186207 | Mercedes-Benz     | S-Class            |   2007 | S550 4dr Sedan 5.5L V8 4MATIC               | nan                             | Sedan                |              8 | nan         |\n",
      "| 84 |  15603 |       16600 |       2019 | 65080     |      1008 | Ford              | Mustang            |   1967 | GT                                          | 351 V-8                         | Coupe                |              8 | RWD         |\n",
      "| 85 | 159763 |        9400 |       2020 | 950**     |     56054 | Ford              | Mustang            |   1985 | GT                                          | 5.7L Gas V8                     | Convertible          |              8 | RWD         |\n",
      "| 86 | 159811 |       30000 |       2020 | 950**     |     18745 | Ford              | Bronco             |   1973 | EXPLORER                                    | 302                             | SUV                  |              8 | 4WD         |\n",
      "| 87 |  94091 |         750 |       2019 | 10541     |    184923 | Lexus             | ES                 |   1998 | nan                                         | nan                             | nan                  |              6 | FWD         |\n",
      "| 88 | 132490 |        5100 |       2020 | 870**     |     58694 | Chevrolet         | Other Pickups      |   1983 | Silverado                                   | 6.2L Diesel V8                  | Crew Cab Pickup      |              8 | RWD         |\n",
      "| 89 | 161768 |        3700 |       2020 | 708**     |     51939 | BMW               | X1                 |   2014 | nan                                         | nan                             | nan                  |              4 | AWD         |\n",
      "| 90 |  85945 |        3500 |       2019 | 46319     |     60200 | Dodge             | Power Wagon        |   1977 | M880/W200                                   | 5.2 Liter 318 V8                | Standard Cab Pickup  |              8 | 4WD         |\n",
      "| 91 |  58533 |        9600 |       2019 | 49068     |         0 | Dodge             | Dart               |   1973 | Swinger                                     | 408 stroker                     | Sedan                |              8 | RWD         |\n",
      "| 92 |  60897 |        1500 |       2019 | 02445     |       220 | Toyota            | Tundra             |   2000 | Base                                        | 6 cylinder                      | Standard Cab Pickup  |              6 | RWD         |\n",
      "| 93 |  91309 |        6700 |       2020 | 85017     |    100000 | Jeep              | CJ                 |   1978 | nan                                         | 360 AMC V8                      | SUV                  |              8 | 4WD         |\n",
      "| 94 | 139014 |        7100 |       2020 | 750**     |    135000 | Porsche           | Boxster            |   1999 | nan                                         | nan                             | Convertible          |              6 | RWD         |\n",
      "| 95 | 158856 |       31100 |       2020 | 296**     |    999999 | Chevrolet         | Blazer             |   1972 | nan                                         | 350                             | SUV                  |              0 | 4WD         |\n",
      "| 96 | 165573 |        2650 |       2020 | 330**     |     89592 | Ford              | Mustang            |   1993 | LX                                          | 2.3L Gas I4                     | Convertible          |              4 | RWD         |\n",
      "| 97 | 164846 |        2850 |       2020 | 330**     |    127001 | Jaguar            | XK8                |   1998 | nan                                         | 4.0L Gas V8                     | Coupe                |              8 | RWD         |\n",
      "| 98 | 165408 |        3900 |       2020 | 330**     |     89759 | Jaguar            | XK8                |   1999 | 2 Door Convertible                          | 4.0L Gas V8                     | Convertible          |              8 | RWD         |\n",
      "| 99 | 129794 |        2720 |       2020 | 330**     |     92450 | Jaguar            | XK8                |   1997 | nan                                         | 4.0 V8                          | Convertible          |              8 | RWD         |\n"
     ]
    }
   ],
   "source": [
    "ucs_df = pd.read_csv('used_car_sales.csv')\n",
    "print(ucs_df.head(30).to_markdown())"
   ]
  },
  {
   "cell_type": "code",
   "execution_count": null,
   "metadata": {},
   "outputs": [],
   "source": [
    "pd.options.display.max_rows = 4000"
   ]
  },
  {
   "cell_type": "code",
   "execution_count": null,
   "metadata": {},
   "outputs": [],
   "source": [
    "ucs_df['BodyType'].value_counts()"
   ]
  },
  {
   "cell_type": "code",
   "execution_count": null,
   "metadata": {},
   "outputs": [],
   "source": [
    "ucs_df = ucs_df[[\"pricesold\", \"yearsold\", \"Mileage\", \"Make\", \"Year\", \"BodyType\"]]"
   ]
  },
  {
   "cell_type": "code",
   "execution_count": null,
   "metadata": {},
   "outputs": [],
   "source": [
    "ucs_df"
   ]
  },
  {
   "cell_type": "code",
   "execution_count": null,
   "metadata": {},
   "outputs": [],
   "source": [
    "ucs_df['Mileage'].hist()"
   ]
  },
  {
   "cell_type": "code",
   "execution_count": null,
   "metadata": {},
   "outputs": [],
   "source": [
    "ucs_df['Mileage'].max()"
   ]
  },
  {
   "cell_type": "code",
   "execution_count": null,
   "metadata": {},
   "outputs": [],
   "source": [
    "# remove cars with more than 400k miles\n",
    "ucs_df = ucs_df[ucs_df['Mileage'] < 400000]"
   ]
  },
  {
   "cell_type": "code",
   "execution_count": null,
   "metadata": {},
   "outputs": [],
   "source": [
    "ucs_df['Mileage'].hist()"
   ]
  },
  {
   "cell_type": "code",
   "execution_count": null,
   "metadata": {},
   "outputs": [],
   "source": [
    "ucs_df['Year'].max()"
   ]
  },
  {
   "cell_type": "code",
   "execution_count": null,
   "metadata": {},
   "outputs": [],
   "source": [
    "ucs_df = ucs_df[(ucs_df['Year'] < 2024) & (ucs_df['Year'] > 1910)]"
   ]
  },
  {
   "cell_type": "code",
   "execution_count": null,
   "metadata": {},
   "outputs": [],
   "source": [
    "ucs_df['Year'].hist()"
   ]
  },
  {
   "cell_type": "code",
   "execution_count": null,
   "metadata": {},
   "outputs": [],
   "source": [
    "unique_makes = list(ucs_df['Make'].unique())\n",
    "\n",
    "print(len(unique_makes))\n",
    "print(*sorted(unique_makes), sep = \"\\n\")\n"
   ]
  },
  {
   "cell_type": "code",
   "execution_count": null,
   "metadata": {},
   "outputs": [],
   "source": [
    "list(ucs_df['Make'].value_counts().index[0:80])"
   ]
  },
  {
   "cell_type": "code",
   "execution_count": null,
   "metadata": {},
   "outputs": [],
   "source": [
    "all_makes = list(ucs_df['Make'].unique())\n",
    "\n",
    "for make in all_makes:\n",
    "    if 'chry' in make.lower():\n",
    "        print(make)"
   ]
  },
  {
   "cell_type": "code",
   "execution_count": null,
   "metadata": {},
   "outputs": [],
   "source": [
    "good_makes = list(ucs_df['Make'].value_counts().index[0:80])\n",
    "\n",
    "make_cleanup_map = {'austin': 'Austin',\n",
    " 'bmw': 'BMW',\n",
    " 'chev': 'Chevrolet',\n",
    " 'chry': 'Chrysler',\n",
    " 'diamond': 'Diamond T',\n",
    " 'dodge': 'Ram',\n",
    " 'fiat': 'Fiat',\n",
    " 'ford': 'Ford',\n",
    " 'gmc': 'GMC',\n",
    " 'honda': 'Honda',\n",
    " 'hummer': 'Hummer',\n",
    " 'jaguar': 'Jaguar',\n",
    " 'jeep': 'Jeep',\n",
    " 'lexus': 'Lexus',\n",
    " 'lincoln': 'Lincoln',\n",
    " 'lotus': 'Lotus',\n",
    " 'mazda': 'Mazda',\n",
    " 'mercedes': 'Mercedes-Benz',\n",
    " 'mouth': 'Chrysler',\n",
    " 'nissan': 'Nissan',\n",
    " 'olds': 'Oldsmobile',\n",
    " 'pon': 'Pontiac',\n",
    " 'ram': 'Ram',\n",
    " 'rambler': 'AMC',\n",
    " 'rover': 'Land Rover',\n",
    " 'saturn': 'Saturn',\n",
    " 'subaru': 'Subaru',\n",
    " 'suburu': 'Subaru',\n",
    " 'tesla': 'Tesla',\n",
    " 'toyota': 'Toyota',\n",
    " 'volks': 'Volkswagen',\n",
    " 'volvo': 'Volvo',\n",
    " 'vw': 'Volkswagen'\n",
    " }\n",
    "\n",
    "def make_cleanup(orig_make):\n",
    "    make_lower = orig_make.lower()\n",
    "\n",
    "    if orig_make in good_makes:\n",
    "        return orig_make\n",
    "    else:\n",
    "        for key in make_cleanup_map.keys():\n",
    "            if key in make_lower:\n",
    "                return make_cleanup_map[key]\n",
    "\n",
    "    return 'Other Makes'\n",
    "\n",
    "ucs_df['clean_make'] = ucs_df['Make'].apply(lambda x: make_cleanup(x))\n"
   ]
  },
  {
   "cell_type": "code",
   "execution_count": null,
   "metadata": {},
   "outputs": [],
   "source": [
    "ucs_df['clean_make'].value_counts()"
   ]
  },
  {
   "cell_type": "code",
   "execution_count": null,
   "metadata": {},
   "outputs": [],
   "source": [
    "ucs_df['BodyType'] = ucs_df['BodyType'].astype(str)"
   ]
  },
  {
   "cell_type": "code",
   "execution_count": null,
   "metadata": {},
   "outputs": [],
   "source": [
    "np.random.seed(42)\n",
    "\n",
    "vectorizer = TfidfVectorizer()\n",
    "X = vectorizer.fit_transform(ucs_df['BodyType'])\n",
    "\n",
    "kmeans = KMeans(n_clusters=8, random_state=42)\n",
    "\n",
    "kmeans.fit(X)\n",
    "\n",
    "body_df = ucs_df[['BodyType']].copy()\n",
    "body_df['cluster'] = kmeans.labels_"
   ]
  },
  {
   "cell_type": "code",
   "execution_count": null,
   "metadata": {},
   "outputs": [],
   "source": [
    "with pd.option_context('display.max_rows', None, 'display.max_columns', None):  # more options can be specified also\n",
    "    for i in range(8):\n",
    "        print(body_df[body_df['cluster'] == i].head(500))\n",
    "        "
   ]
  },
  {
   "cell_type": "code",
   "execution_count": null,
   "metadata": {},
   "outputs": [],
   "source": [
    "body_cleanup_map = {\n",
    "    'van': 'Van',\n",
    "    'pickup': 'Pickup', \n",
    "    'cab': 'Pickup',\n",
    "    'bed': 'Pickup',\n",
    "    'truck': 'Pickup',\n",
    "    'coupe': 'Coupe',\n",
    "    '2door': 'Coupe',\n",
    "    '2dr': 'Coupe',\n",
    "    'sedan': 'Sedan',\n",
    "    '4door': 'Sedan',\n",
    "    '4dr': 'Sedan',\n",
    "    'suv' : 'SUV',\n",
    "    'jeep': 'SUV',\n",
    "    'sportutil': 'SUV',\n",
    "    'convertible': 'Convertible',\n",
    "    'wagon': 'Wagon',\n",
    "    'hatchback': 'Hatchback',\n",
    "    'fastback': 'Fastback'\n",
    "}\n",
    "\n",
    "def body_cleanup(orig_body):\n",
    "    body_stripped = ''.join(e for e in orig_body if e.isalnum()).lower()\n",
    "\n",
    "    for key in body_cleanup_map.keys():\n",
    "        if key in body_stripped:\n",
    "            return body_cleanup_map[key]\n",
    "    return 'Other Bodies'\n",
    "\n",
    "ucs_df['clean_body'] = ucs_df['BodyType'].apply(lambda x: body_cleanup(x))"
   ]
  },
  {
   "cell_type": "code",
   "execution_count": null,
   "metadata": {},
   "outputs": [],
   "source": [
    "\n",
    "with pd.option_context('display.max_rows', None, 'display.max_columns', None):  # more options can be specified also\n",
    "    print(ucs_df[['BodyType', 'clean_body']][ucs_df['clean_body'] == 'Other Bodies'])"
   ]
  },
  {
   "cell_type": "code",
   "execution_count": null,
   "metadata": {},
   "outputs": [],
   "source": [
    "counts = ucs_df['clean_body'].value_counts()\n",
    "\n",
    "counts.plot(kind='bar', color='blue')\n",
    "\n",
    "plt.grid(False)\n",
    "\n",
    "plt.gca().spines['top'].set_visible(False)\n",
    "plt.gca().spines['right'].set_visible(False)\n",
    "plt.gca().spines['left'].set_visible(False)\n",
    "plt.gca().spines['bottom'].set_visible(False)\n",
    "\n",
    "plt.xticks(rotation=90)\n",
    "\n",
    "plt.show()"
   ]
  },
  {
   "cell_type": "code",
   "execution_count": null,
   "metadata": {},
   "outputs": [],
   "source": [
    "modes = ucs_df.mode().iloc[0]\n",
    "\n",
    "def proc_data(df):\n",
    "    df['CleanMake'] = pd.Categorical(df.clean_make)\n",
    "    df['CleanBody'] = pd.Categorical(df.clean_body)\n",
    "    df['YearMade'] = pd.Categorical(df.Year)\n",
    "    df['YearSold'] = pd.Categorical(df.yearsold)\n",
    "    \n",
    "    df.fillna(modes, inplace=True)\n",
    "\n",
    "proc_data(ucs_df)"
   ]
  },
  {
   "cell_type": "code",
   "execution_count": null,
   "metadata": {},
   "outputs": [],
   "source": [
    "cons_df = ucs_df[['pricesold', 'YearSold', 'Mileage', 'YearMade', 'CleanMake', 'CleanBody']]"
   ]
  },
  {
   "cell_type": "code",
   "execution_count": null,
   "metadata": {},
   "outputs": [],
   "source": [
    "categorical_cols = ['YearSold', 'YearMade', 'CleanMake', 'CleanBody']\n",
    "le = LabelEncoder() \n",
    "cons_df[categorical_cols] = cons_df[categorical_cols].apply(lambda col: le.fit_transform(col))"
   ]
  },
  {
   "cell_type": "code",
   "execution_count": null,
   "metadata": {},
   "outputs": [],
   "source": [
    "cons_df"
   ]
  },
  {
   "cell_type": "code",
   "execution_count": null,
   "metadata": {},
   "outputs": [],
   "source": [
    "X = cons_df.drop(columns=['pricesold'])\n",
    "pricesold_column = cons_df.loc[:, 'pricesold']\n",
    "y = pricesold_column.values\n"
   ]
  },
  {
   "cell_type": "code",
   "execution_count": null,
   "metadata": {},
   "outputs": [],
   "source": [
    "rf = RandomForestRegressor(n_estimators=300)\n",
    "rf.fit(X, y)"
   ]
  },
  {
   "cell_type": "code",
   "execution_count": null,
   "metadata": {},
   "outputs": [],
   "source": [
    "rf.feature_importances_"
   ]
  },
  {
   "cell_type": "code",
   "execution_count": null,
   "metadata": {},
   "outputs": [],
   "source": [
    "plt.barh(X.columns, rf.feature_importances_)"
   ]
  },
  {
   "cell_type": "code",
   "execution_count": null,
   "metadata": {},
   "outputs": [],
   "source": []
  }
 ],
 "metadata": {
  "kernelspec": {
   "display_name": "Python 3 (ipykernel)",
   "language": "python",
   "name": "python3"
  },
  "language_info": {
   "codemirror_mode": {
    "name": "ipython",
    "version": 3
   },
   "file_extension": ".py",
   "mimetype": "text/x-python",
   "name": "python",
   "nbconvert_exporter": "python",
   "pygments_lexer": "ipython3",
   "version": "3.10.13"
  }
 },
 "nbformat": 4,
 "nbformat_minor": 4
}
